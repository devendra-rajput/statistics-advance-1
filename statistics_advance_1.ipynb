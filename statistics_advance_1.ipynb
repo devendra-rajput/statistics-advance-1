{
  "nbformat": 4,
  "nbformat_minor": 0,
  "metadata": {
    "colab": {
      "provenance": []
    },
    "kernelspec": {
      "name": "python3",
      "display_name": "Python 3"
    },
    "language_info": {
      "name": "python"
    }
  },
  "cells": [
    {
      "cell_type": "markdown",
      "source": [
        "# Statistics Advance 1"
      ],
      "metadata": {
        "id": "7uwogP0M5GD1"
      }
    },
    {
      "cell_type": "markdown",
      "source": [
        "1. What is a random variable in probability theory?\n",
        "   - In probability theory, a random variable is a variable whose possible values are determined by the outcomes of a random experiment. It assigns a numerical value to each outcome in the sample space.\n",
        "\n",
        "2. What are the types of random variables?\n",
        "   - Random variables are of two types: Discrete (take countable values, e.g., dice roll) and Continuous (take infinite values over an interval, e.g., height, time). A third type, Mixed, combines both discrete and continuous features.\n",
        "\n",
        "3.  Explain the difference between discrete and continuous distributions.\n",
        "    - **Discrete distribution:** A discrete distribution deals with countable outcomes (like dice rolls or number of heads), described by a Probability Mass Function (PMF).\n",
        "      **Continuous distribution:** A continuous distribution deals with uncountably infinite outcomes (like height or time), described by a Probability Density Function (PDF).\n",
        "\n",
        "4. What is a binomial distribution, and how is it used in probability?\n",
        "    *   A binomial distribution is a discrete probability distribution that gives the likelihood of getting a fixed number of successes in a certain number of independent trials, each with the same probability of success. It is used in probability to model situations like coin tosses, quality control (defective vs. non-defective items), or survey results (yes/no responses).\n",
        "\n",
        "5. What is the standard normal distribution, and why is it important?\n",
        "   - The standard normal distribution is a normal distribution with a mean of 0 and standard deviation of 1. It is important because many statistical methods rely on it, and any normal distribution can be converted to the standard normal using a z-score, making probability calculations and comparisons easier.\n",
        "\n",
        "6. What is the Central Limit Theorem (CLT), and why is it critical in statistics?\n",
        "   - The Central Limit Theorem (CLT) states that, for a large sample size, the sampling distribution of the sample mean approaches a normal distribution, regardless of the population’s original distribution. It is critical because it allows statisticians to use normal probability methods for inference (confidence intervals, hypothesis testing) even when the data is not normally distributed.\n",
        "\n",
        "7. What is the significance of confidence intervals in statistical analysis?\n",
        "   - A confidence interval gives a range of values within which the true population parameter is likely to fall, with a certain level of confidence (e.g., 95%). Its significance is that it shows both the estimate and the uncertainty around it, making results more reliable than a single point estimate.\n",
        "\n",
        "8. What is the concept of expected value in a probability distribution?\n",
        "   - The expected value is the long-run average or mean of a random variable, calculated by weighting each possible outcome by its probability. It represents the value you would expect on average if an experiment were repeated many times."
      ],
      "metadata": {
        "id": "A3laMrSm5XIT"
      }
    },
    {
      "cell_type": "markdown",
      "source": [
        "# Practical Questions"
      ],
      "metadata": {
        "id": "fgTQFY8g7105"
      }
    },
    {
      "cell_type": "code",
      "source": [
        "# Q-9.  Write a Python program to generate 1000 random numbers from a normal distribution with mean = 50 and standard deviation = 5. Compute its mean and standard deviation using NumPy, and draw a histogram to visualize the distribution.\n",
        "\n",
        "import numpy as np\n",
        "import matplotlib.pyplot as plt\n",
        "\n",
        "mean = 50\n",
        "std_dev = 5\n",
        "num_samples = 1000\n",
        "\n",
        "data = np.random.normal(mean, std_dev, num_samples)\n",
        "\n",
        "calculated_mean = np.mean(data)\n",
        "calculated_std = np.std(data)\n",
        "\n",
        "print(f\"Calculated Mean: {calculated_mean:.2f}\")\n",
        "print(f\"Calculated Standard Deviation: {calculated_std:.2f}\")\n",
        "\n",
        "# Plot histogram\n",
        "plt.hist(data, bins=30, color='skyblue', edgecolor='black')\n",
        "plt.title('Histogram of Normally Distributed Data')\n",
        "plt.xlabel('Value')\n",
        "plt.ylabel('Frequency')\n",
        "plt.grid(True)\n",
        "plt.show()\n",
        "\n",
        "\n"
      ],
      "metadata": {
        "id": "jMXFvIXq728g",
        "colab": {
          "base_uri": "https://localhost:8080/",
          "height": 508
        },
        "outputId": "d68851b1-12b7-434b-8880-1ac6ca1975ca"
      },
      "execution_count": 1,
      "outputs": [
        {
          "output_type": "stream",
          "name": "stdout",
          "text": [
            "Calculated Mean: 50.11\n",
            "Calculated Standard Deviation: 4.90\n"
          ]
        },
        {
          "output_type": "display_data",
          "data": {
            "text/plain": [
              "<Figure size 640x480 with 1 Axes>"
            ],
            "image/png": "[encoded data removed]"
          },
          "metadata": {}
        }
      ]
    },
    {
      "cell_type": "code",
      "source": [
        "\"\"\"\n",
        "Q-10. You are working as a data analyst for a retail company. The company has collected daily sales data for 2 years and wants you to identify the overall sales trend.\n",
        "\n",
        "      daily_sales = [220, 245, 210, 265, 230, 250, 260, 275, 240, 255, 235, 260, 245, 250, 225, 270, 265, 255, 250, 260]\n",
        "\n",
        "      ● Explain how you would apply the Central Limit Theorem to estimate the average sales\n",
        "      with a 95% confidence interval.\n",
        "      ● Write the Python code to compute the mean sales and its confidence interval.\n",
        "\"\"\"\n",
        "\n",
        "import numpy as np\n",
        "from scipy import stats\n",
        "\n",
        "daily_sales = [220, 245, 210, 265, 230, 250, 260, 275, 240, 255, 235, 260, 245, 250, 225, 270, 265, 255, 250, 260]\n",
        "\n",
        "# Sample size\n",
        "n = len(daily_sales)\n",
        "\n",
        "# Sample mean and standard deviation\n",
        "mean_sales = np.mean(daily_sales)\n",
        "std_sales = np.std(daily_sales, ddof=1)  # sample standard deviation\n",
        "\n",
        "# 95% confidence interval\n",
        "confidence_level = 0.95\n",
        "alpha = 1 - confidence_level\n",
        "z_score = stats.norm.ppf(1 - alpha/2)  # z = 1.96 for 95% CI\n",
        "\n",
        "margin_of_error = z_score * (std_sales / np.sqrt(n))\n",
        "ci_lower = mean_sales - margin_of_error\n",
        "ci_upper = mean_sales + margin_of_error\n",
        "\n",
        "print(f\"Mean Daily Sales: {mean_sales:.2f}\")\n",
        "print(f\"95% Confidence Interval: ({ci_lower:.2f}, {ci_upper:.2f})\")\n",
        "\n"
      ],
      "metadata": {
        "id": "PkyzVrIR8WEE",
        "colab": {
          "base_uri": "https://localhost:8080/"
        },
        "outputId": "9aa4cc67-840e-4941-cde9-bb8745ba62d0"
      },
      "execution_count": 2,
      "outputs": [
        {
          "output_type": "stream",
          "name": "stdout",
          "text": [
            "Mean Daily Sales: 248.25\n",
            "95% Confidence Interval: (240.68, 255.82)\n"
          ]
        }
      ]
    }
  ]
}